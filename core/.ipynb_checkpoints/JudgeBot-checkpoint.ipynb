{
 "cells": [
  {
   "cell_type": "code",
   "execution_count": null,
   "metadata": {
    "collapsed": false
   },
   "outputs": [],
   "source": [
    "import csv\n",
    "import pywikibot\n",
    "from pywikibot.data import api\n",
    "import pprint\n",
    "\n",
    "site = pywikibot.Site(\"wikidata\", \"wikidata\")\n",
    "repo = site.data_repository()\n",
    "\n",
    "item_titles = []\n",
    "with open('namen.csv', newline='') as csvfile:\n",
    "    reader = csv.DictReader(csvfile, delimiter=';', quotechar='\"')\n",
    "    for row in reader:\n",
    "        #print(row)\n",
    "        #print(row['Vorname'], row['Nachname'])\n",
    "        names = {}\n",
    "        if row['Vorname'] != '' and row['Nachname'] != '':\n",
    "            names['name'] = row['Vorname'] + \" \" + row['Nachname']\n",
    "        else:\n",
    "            names['name'] = None\n",
    "        \n",
    "        if row['Vorname'] != '' and row['Nachname'] != '' and row['Namenszusatz'] != '':\n",
    "             names['name_with_affix'] = row['Vorname'] + \" \" + row['Namenszusatz'] + \" \" + row['Nachname']\n",
    "        else:\n",
    "             names['name_with_affix'] = None\n",
    "       \n",
    "        item_titles.append(names)\n",
    "        \n",
    "print(item_titles)\n",
    "\n",
    "def get_items(site, item_title):\n",
    "    \"\"\"\n",
    "    Requires a site and search term (item_title) and returns the results.\n",
    "    \"\"\"\n",
    "    params = {\"action\": \"wbsearchentities\",\n",
    "              \"format\": \"json\",\n",
    "              \"language\": \"en\",\n",
    "              \"type\": \"item\",\n",
    "              \"search\": item_title}\n",
    "    request = api.Request(site=site, **params)\n",
    "    return request.submit()\n",
    "\n",
    "def get_qids(search_results):\n",
    "    qids = []\n",
    "    [qids.append(result[\"id\"]) for result in search_results[\"search\"]]\n",
    "    return qids\n",
    "        \n",
    "i = 0\n",
    "for names in item_titles:\n",
    "    if names['name'] != None or names['name_with_affix'] != None:\n",
    "        qids = []\n",
    "        if names['name'] != None:\n",
    "            search_results = get_items(site, names['name'])\n",
    "            qids += get_qids(search_results)\n",
    "        if names['name_with_affix'] != None:\n",
    "            search_results = get_items(site, names['name_with_affix'])\n",
    "            qids += get_qids(search_results)\n",
    "        qids = set(qids)\n",
    "\n",
    "        if len(search_results[\"search\"]) == 0:\n",
    "            print(\"An item with the name %s don't exist.\" % names['name'])\n",
    "            i += 1\n",
    "        else:\n",
    "            print(\"An item with the name %s may already exist.\" % names['name'])\n",
    "    else:\n",
    "        print(\"No qualified name available to search.\")\n",
    "        \n",
    "print(\"%d judges are not on wikidata\" % i)"
   ]
  },
  {
   "cell_type": "code",
   "execution_count": null,
   "metadata": {
    "collapsed": true
   },
   "outputs": [],
   "source": []
  }
 ],
 "metadata": {
  "kernelspec": {
   "display_name": "Python 3",
   "language": "python",
   "name": "python3"
  },
  "language_info": {
   "codemirror_mode": {
    "name": "ipython",
    "version": 3
   },
   "file_extension": ".py",
   "mimetype": "text/x-python",
   "name": "python",
   "nbconvert_exporter": "python",
   "pygments_lexer": "ipython3",
   "version": "3.6.0"
  }
 },
 "nbformat": 4,
 "nbformat_minor": 2
}
